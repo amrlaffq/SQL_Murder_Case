{
 "cells": [
  {
   "cell_type": "code",
   "execution_count": 1,
   "metadata": {},
   "outputs": [],
   "source": [
    "%load_ext sql\n",
    "%sql sqlite:///sql-murder-mystery.db"
   ]
  },
  {
   "cell_type": "markdown",
   "metadata": {},
   "source": [
    "<img src='question.png'>\n",
    "<img src='diagram.png'>"
   ]
  },
  {
   "cell_type": "code",
   "execution_count": 2,
   "metadata": {},
   "outputs": [
    {
     "name": "stdout",
     "output_type": "stream",
     "text": [
      " * sqlite:///sql-murder-mystery.db\n",
      "Done.\n"
     ]
    },
    {
     "data": {
      "text/html": [
       "<table>\n",
       "    <tr>\n",
       "        <th>date</th>\n",
       "        <th>type</th>\n",
       "        <th>description</th>\n",
       "        <th>city</th>\n",
       "    </tr>\n",
       "    <tr>\n",
       "        <td>20180115</td>\n",
       "        <td>murder</td>\n",
       "        <td>Life? Dont talk to me about life.</td>\n",
       "        <td>Albany</td>\n",
       "    </tr>\n",
       "    <tr>\n",
       "        <td>20180115</td>\n",
       "        <td>murder</td>\n",
       "        <td>Mama, I killed a man, put a gun against his head...</td>\n",
       "        <td>Reno</td>\n",
       "    </tr>\n",
       "    <tr>\n",
       "        <td>20180115</td>\n",
       "        <td>murder</td>\n",
       "        <td>Security footage shows that there were 2 witnesses. The first witness lives at the last house on &quot;Northwestern Dr&quot;. The second witness, named Annabel, lives somewhere on &quot;Franklin Ave&quot;.</td>\n",
       "        <td>SQL City</td>\n",
       "    </tr>\n",
       "</table>"
      ],
      "text/plain": [
       "[(20180115, 'murder', 'Life? Dont talk to me about life.', 'Albany'),\n",
       " (20180115, 'murder', 'Mama, I killed a man, put a gun against his head...', 'Reno'),\n",
       " (20180115, 'murder', 'Security footage shows that there were 2 witnesses. The first witness lives at the last house on \"Northwestern Dr\". The second witness, named Annabel, lives somewhere on \"Franklin Ave\".', 'SQL City')]"
      ]
     },
     "execution_count": 2,
     "metadata": {},
     "output_type": "execute_result"
    }
   ],
   "source": [
    "%%sql select *\n",
    "from crime_scene_report\n",
    "where date == 20180115 and type == 'murder'"
   ]
  },
  {
   "cell_type": "code",
   "execution_count": 3,
   "metadata": {},
   "outputs": [
    {
     "name": "stdout",
     "output_type": "stream",
     "text": [
      " * sqlite:///sql-murder-mystery.db\n",
      "Done.\n"
     ]
    },
    {
     "data": {
      "text/html": [
       "<table>\n",
       "    <tr>\n",
       "        <th>id</th>\n",
       "        <th>name</th>\n",
       "        <th>license_id</th>\n",
       "        <th>address_number</th>\n",
       "        <th>address_street_name</th>\n",
       "        <th>ssn</th>\n",
       "    </tr>\n",
       "    <tr>\n",
       "        <td>14887</td>\n",
       "        <td>Morty Schapiro</td>\n",
       "        <td>118009</td>\n",
       "        <td>4919</td>\n",
       "        <td>Northwestern Dr</td>\n",
       "        <td>111564949</td>\n",
       "    </tr>\n",
       "</table>"
      ],
      "text/plain": [
       "[(14887, 'Morty Schapiro', 118009, 4919, 'Northwestern Dr', 111564949)]"
      ]
     },
     "execution_count": 3,
     "metadata": {},
     "output_type": "execute_result"
    }
   ],
   "source": [
    "%%sql select *\n",
    "from person\n",
    "where address_street_name == 'Northwestern Dr'\n",
    "order by address_number DESC LIMIT 1"
   ]
  },
  {
   "cell_type": "code",
   "execution_count": 4,
   "metadata": {},
   "outputs": [
    {
     "name": "stdout",
     "output_type": "stream",
     "text": [
      " * sqlite:///sql-murder-mystery.db\n",
      "Done.\n"
     ]
    },
    {
     "data": {
      "text/html": [
       "<table>\n",
       "    <tr>\n",
       "        <th>id</th>\n",
       "        <th>name</th>\n",
       "        <th>license_id</th>\n",
       "        <th>address_number</th>\n",
       "        <th>address_street_name</th>\n",
       "        <th>ssn</th>\n",
       "    </tr>\n",
       "    <tr>\n",
       "        <td>89906</td>\n",
       "        <td>Kinsey Erickson</td>\n",
       "        <td>510019</td>\n",
       "        <td>309</td>\n",
       "        <td>Northwestern Dr</td>\n",
       "        <td>635287661</td>\n",
       "    </tr>\n",
       "</table>"
      ],
      "text/plain": [
       "[(89906, 'Kinsey Erickson', 510019, 309, 'Northwestern Dr', 635287661)]"
      ]
     },
     "execution_count": 4,
     "metadata": {},
     "output_type": "execute_result"
    }
   ],
   "source": [
    "%%sql select *\n",
    "from person\n",
    "where address_street_name == 'Northwestern Dr'\n",
    "order by address_number ASC LIMIT 1"
   ]
  },
  {
   "cell_type": "code",
   "execution_count": 5,
   "metadata": {},
   "outputs": [
    {
     "name": "stdout",
     "output_type": "stream",
     "text": [
      " * sqlite:///sql-murder-mystery.db\n",
      "Done.\n"
     ]
    },
    {
     "data": {
      "text/html": [
       "<table>\n",
       "    <tr>\n",
       "        <th>id</th>\n",
       "        <th>name</th>\n",
       "        <th>license_id</th>\n",
       "        <th>address_number</th>\n",
       "        <th>address_street_name</th>\n",
       "        <th>ssn</th>\n",
       "    </tr>\n",
       "    <tr>\n",
       "        <td>16371</td>\n",
       "        <td>Annabel Miller</td>\n",
       "        <td>490173</td>\n",
       "        <td>103</td>\n",
       "        <td>Franklin Ave</td>\n",
       "        <td>318771143</td>\n",
       "    </tr>\n",
       "</table>"
      ],
      "text/plain": [
       "[(16371, 'Annabel Miller', 490173, 103, 'Franklin Ave', 318771143)]"
      ]
     },
     "execution_count": 5,
     "metadata": {},
     "output_type": "execute_result"
    }
   ],
   "source": [
    "%%sql select *\n",
    "from person\n",
    "where (name LIKE '%Annabel%')&(address_street_name == 'Franklin Ave')"
   ]
  },
  {
   "cell_type": "code",
   "execution_count": 6,
   "metadata": {},
   "outputs": [
    {
     "name": "stdout",
     "output_type": "stream",
     "text": [
      " * sqlite:///sql-murder-mystery.db\n",
      "Done.\n"
     ]
    },
    {
     "data": {
      "text/html": [
       "<table>\n",
       "    <tr>\n",
       "        <th>person_id</th>\n",
       "        <th>name</th>\n",
       "    </tr>\n",
       "    <tr>\n",
       "        <td>16371</td>\n",
       "        <td>Annabel Miller</td>\n",
       "    </tr>\n",
       "</table>"
      ],
      "text/plain": [
       "[(16371, 'Annabel Miller')]"
      ]
     },
     "execution_count": 6,
     "metadata": {},
     "output_type": "execute_result"
    }
   ],
   "source": [
    "%%sql select person_id, name\n",
    "from get_fit_now_member\n",
    "where name like 'Morty Schapiro' or name like 'Kinsey Erickson'or name like 'Annabel Miller'"
   ]
  },
  {
   "cell_type": "code",
   "execution_count": 7,
   "metadata": {},
   "outputs": [
    {
     "name": "stdout",
     "output_type": "stream",
     "text": [
      " * sqlite:///sql-murder-mystery.db\n",
      "Done.\n"
     ]
    },
    {
     "data": {
      "text/html": [
       "<table>\n",
       "    <tr>\n",
       "        <th>id</th>\n",
       "        <th>name</th>\n",
       "        <th>license_id</th>\n",
       "        <th>address_number</th>\n",
       "        <th>address_street_name</th>\n",
       "        <th>ssn</th>\n",
       "        <th>person_id</th>\n",
       "        <th>transcript</th>\n",
       "    </tr>\n",
       "    <tr>\n",
       "        <td>14887</td>\n",
       "        <td>Morty Schapiro</td>\n",
       "        <td>118009</td>\n",
       "        <td>4919</td>\n",
       "        <td>Northwestern Dr</td>\n",
       "        <td>111564949</td>\n",
       "        <td>14887</td>\n",
       "        <td>I heard a gunshot and then saw a man run out. He had a &quot;Get Fit Now Gym&quot; bag. The membership number on the bag started with &quot;48Z&quot;. Only gold members have those bags. The man got into a car with a plate that included &quot;H42W&quot;.</td>\n",
       "    </tr>\n",
       "    <tr>\n",
       "        <td>16371</td>\n",
       "        <td>Annabel Miller</td>\n",
       "        <td>490173</td>\n",
       "        <td>103</td>\n",
       "        <td>Franklin Ave</td>\n",
       "        <td>318771143</td>\n",
       "        <td>16371</td>\n",
       "        <td>I saw the murder happen, and I recognized the killer from my gym when I was working out last week on January the 9th.</td>\n",
       "    </tr>\n",
       "</table>"
      ],
      "text/plain": [
       "[(14887, 'Morty Schapiro', 118009, 4919, 'Northwestern Dr', 111564949, 14887, 'I heard a gunshot and then saw a man run out. He had a \"Get Fit Now Gym\" bag. The membership number on the bag started with \"48Z\". Only gold members have those bags. The man got into a car with a plate that included \"H42W\".'),\n",
       " (16371, 'Annabel Miller', 490173, 103, 'Franklin Ave', 318771143, 16371, 'I saw the murder happen, and I recognized the killer from my gym when I was working out last week on January the 9th.')]"
      ]
     },
     "execution_count": 7,
     "metadata": {},
     "output_type": "execute_result"
    }
   ],
   "source": [
    "%%sql select *\n",
    "from person as p\n",
    "join interview as i\n",
    "on p.id == i.person_id\n",
    "where name like 'Morty Schapiro' or name like 'Kinsey Erickson'or name like 'Annabel Miller'"
   ]
  },
  {
   "cell_type": "code",
   "execution_count": 8,
   "metadata": {},
   "outputs": [
    {
     "name": "stdout",
     "output_type": "stream",
     "text": [
      " * sqlite:///sql-murder-mystery.db\n",
      "Done.\n"
     ]
    },
    {
     "data": {
      "text/html": [
       "<table>\n",
       "    <tr>\n",
       "        <th>id</th>\n",
       "        <th>person_id</th>\n",
       "        <th>name</th>\n",
       "        <th>membership_start_date</th>\n",
       "        <th>membership_status</th>\n",
       "    </tr>\n",
       "    <tr>\n",
       "        <td>2Q45D</td>\n",
       "        <td>47693</td>\n",
       "        <td>Owen Caston</td>\n",
       "        <td>20170102</td>\n",
       "        <td>silver</td>\n",
       "    </tr>\n",
       "    <tr>\n",
       "        <td>GKZV7</td>\n",
       "        <td>30221</td>\n",
       "        <td>Jude Fairbairn</td>\n",
       "        <td>20170108</td>\n",
       "        <td>gold</td>\n",
       "    </tr>\n",
       "    <tr>\n",
       "        <td>402DQ</td>\n",
       "        <td>92379</td>\n",
       "        <td>Lynwood Punter</td>\n",
       "        <td>20170104</td>\n",
       "        <td>silver</td>\n",
       "    </tr>\n",
       "    <tr>\n",
       "        <td>48Z7A</td>\n",
       "        <td>28819</td>\n",
       "        <td>Joe Germuska</td>\n",
       "        <td>20160305</td>\n",
       "        <td>gold</td>\n",
       "    </tr>\n",
       "    <tr>\n",
       "        <td>48Z55</td>\n",
       "        <td>67318</td>\n",
       "        <td>Jeremy Bowers</td>\n",
       "        <td>20160101</td>\n",
       "        <td>gold</td>\n",
       "    </tr>\n",
       "    <tr>\n",
       "        <td>90081</td>\n",
       "        <td>16371</td>\n",
       "        <td>Annabel Miller</td>\n",
       "        <td>20160208</td>\n",
       "        <td>gold</td>\n",
       "    </tr>\n",
       "</table>"
      ],
      "text/plain": [
       "[('2Q45D', 47693, 'Owen Caston', 20170102, 'silver'),\n",
       " ('GKZV7', 30221, 'Jude Fairbairn', 20170108, 'gold'),\n",
       " ('402DQ', 92379, 'Lynwood Punter', 20170104, 'silver'),\n",
       " ('48Z7A', 28819, 'Joe Germuska', 20160305, 'gold'),\n",
       " ('48Z55', 67318, 'Jeremy Bowers', 20160101, 'gold'),\n",
       " ('90081', 16371, 'Annabel Miller', 20160208, 'gold')]"
      ]
     },
     "execution_count": 8,
     "metadata": {},
     "output_type": "execute_result"
    }
   ],
   "source": [
    "%%sql select *\n",
    "from get_fit_now_member\n",
    "where membership_start_date < 20170109"
   ]
  },
  {
   "cell_type": "code",
   "execution_count": 9,
   "metadata": {},
   "outputs": [
    {
     "name": "stdout",
     "output_type": "stream",
     "text": [
      " * sqlite:///sql-murder-mystery.db\n",
      "Done.\n"
     ]
    },
    {
     "data": {
      "text/html": [
       "<table>\n",
       "    <tr>\n",
       "        <th>id</th>\n",
       "        <th>person_id</th>\n",
       "        <th>name</th>\n",
       "        <th>membership_start_date</th>\n",
       "        <th>membership_status</th>\n",
       "        <th>membership_id</th>\n",
       "        <th>check_in_date</th>\n",
       "        <th>check_in_time</th>\n",
       "        <th>check_out_time</th>\n",
       "    </tr>\n",
       "    <tr>\n",
       "        <td>48Z7A</td>\n",
       "        <td>28819</td>\n",
       "        <td>Joe Germuska</td>\n",
       "        <td>20160305</td>\n",
       "        <td>gold</td>\n",
       "        <td>48Z7A</td>\n",
       "        <td>20180109</td>\n",
       "        <td>1600</td>\n",
       "        <td>1730</td>\n",
       "    </tr>\n",
       "    <tr>\n",
       "        <td>48Z55</td>\n",
       "        <td>67318</td>\n",
       "        <td>Jeremy Bowers</td>\n",
       "        <td>20160101</td>\n",
       "        <td>gold</td>\n",
       "        <td>48Z55</td>\n",
       "        <td>20180109</td>\n",
       "        <td>1530</td>\n",
       "        <td>1700</td>\n",
       "    </tr>\n",
       "</table>"
      ],
      "text/plain": [
       "[('48Z7A', 28819, 'Joe Germuska', 20160305, 'gold', '48Z7A', 20180109, 1600, 1730),\n",
       " ('48Z55', 67318, 'Jeremy Bowers', 20160101, 'gold', '48Z55', 20180109, 1530, 1700)]"
      ]
     },
     "execution_count": 9,
     "metadata": {},
     "output_type": "execute_result"
    }
   ],
   "source": [
    "%%sql select *\n",
    "from get_fit_now_member as nm\n",
    "join get_fit_now_check_in as ci\n",
    "on nm.id == ci.membership_id\n",
    "where (check_in_date == 20180109) AND (membership_id like '48Z%')"
   ]
  },
  {
   "cell_type": "code",
   "execution_count": 10,
   "metadata": {},
   "outputs": [
    {
     "name": "stdout",
     "output_type": "stream",
     "text": [
      " * sqlite:///sql-murder-mystery.db\n",
      "Done.\n"
     ]
    },
    {
     "data": {
      "text/html": [
       "<table>\n",
       "    <tr>\n",
       "        <th>id</th>\n",
       "        <th>name</th>\n",
       "        <th>license_id</th>\n",
       "        <th>address_number</th>\n",
       "        <th>address_street_name</th>\n",
       "        <th>ssn</th>\n",
       "        <th>id_1</th>\n",
       "        <th>age</th>\n",
       "        <th>height</th>\n",
       "        <th>eye_color</th>\n",
       "        <th>hair_color</th>\n",
       "        <th>gender</th>\n",
       "        <th>plate_number</th>\n",
       "        <th>car_make</th>\n",
       "        <th>car_model</th>\n",
       "    </tr>\n",
       "    <tr>\n",
       "        <td>51739</td>\n",
       "        <td>Tushar Chandra</td>\n",
       "        <td>664760</td>\n",
       "        <td>312</td>\n",
       "        <td>Phi St</td>\n",
       "        <td>137882671</td>\n",
       "        <td>664760</td>\n",
       "        <td>21</td>\n",
       "        <td>71</td>\n",
       "        <td>black</td>\n",
       "        <td>black</td>\n",
       "        <td>male</td>\n",
       "        <td>4H42WR</td>\n",
       "        <td>Nissan</td>\n",
       "        <td>Altima</td>\n",
       "    </tr>\n",
       "    <tr>\n",
       "        <td>67318</td>\n",
       "        <td>Jeremy Bowers</td>\n",
       "        <td>423327</td>\n",
       "        <td>530</td>\n",
       "        <td>Washington Pl, Apt 3A</td>\n",
       "        <td>871539279</td>\n",
       "        <td>423327</td>\n",
       "        <td>30</td>\n",
       "        <td>70</td>\n",
       "        <td>brown</td>\n",
       "        <td>brown</td>\n",
       "        <td>male</td>\n",
       "        <td>0H42W2</td>\n",
       "        <td>Chevrolet</td>\n",
       "        <td>Spark LS</td>\n",
       "    </tr>\n",
       "    <tr>\n",
       "        <td>78193</td>\n",
       "        <td>Maxine Whitely</td>\n",
       "        <td>183779</td>\n",
       "        <td>110</td>\n",
       "        <td>Fisk Rd</td>\n",
       "        <td>137882671</td>\n",
       "        <td>183779</td>\n",
       "        <td>21</td>\n",
       "        <td>65</td>\n",
       "        <td>blue</td>\n",
       "        <td>blonde</td>\n",
       "        <td>female</td>\n",
       "        <td>H42W0X</td>\n",
       "        <td>Toyota</td>\n",
       "        <td>Prius</td>\n",
       "    </tr>\n",
       "</table>"
      ],
      "text/plain": [
       "[(51739, 'Tushar Chandra', 664760, 312, 'Phi St', 137882671, 664760, 21, 71, 'black', 'black', 'male', '4H42WR', 'Nissan', 'Altima'),\n",
       " (67318, 'Jeremy Bowers', 423327, 530, 'Washington Pl, Apt 3A', 871539279, 423327, 30, 70, 'brown', 'brown', 'male', '0H42W2', 'Chevrolet', 'Spark LS'),\n",
       " (78193, 'Maxine Whitely', 183779, 110, 'Fisk Rd', 137882671, 183779, 21, 65, 'blue', 'blonde', 'female', 'H42W0X', 'Toyota', 'Prius')]"
      ]
     },
     "execution_count": 10,
     "metadata": {},
     "output_type": "execute_result"
    }
   ],
   "source": [
    "%%sql select *\n",
    "from person as p\n",
    "join drivers_license as dl\n",
    "on p.license_id == dl.id\n",
    "where plate_number like '%H42W%'"
   ]
  },
  {
   "cell_type": "markdown",
   "metadata": {},
   "source": [
    "## The killer is Jeremy Bowers"
   ]
  }
 ],
 "metadata": {
  "kernelspec": {
   "display_name": "Python 3",
   "language": "python",
   "name": "python3"
  },
  "language_info": {
   "codemirror_mode": {
    "name": "ipython",
    "version": 3
   },
   "file_extension": ".py",
   "mimetype": "text/x-python",
   "name": "python",
   "nbconvert_exporter": "python",
   "pygments_lexer": "ipython3",
   "version": "3.7.3"
  }
 },
 "nbformat": 4,
 "nbformat_minor": 2
}
